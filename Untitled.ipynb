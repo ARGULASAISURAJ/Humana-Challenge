{
 "cells": [
  {
   "cell_type": "code",
   "execution_count": 26,
   "metadata": {},
   "outputs": [],
   "source": [
    "import pandas as pd\n",
    "import seaborn as sns"
   ]
  },
  {
   "cell_type": "code",
   "execution_count": 17,
   "metadata": {},
   "outputs": [],
   "source": [
    "df = pd.read_excel('2020_Competition_Data_Documentation.xlsx', sheet_name = 'Transporation model_dictionary')"
   ]
  },
  {
   "cell_type": "code",
   "execution_count": 18,
   "metadata": {},
   "outputs": [],
   "source": [
    "# yy = pd.read_csv(\"2020_Competition_Training (1).csv\")"
   ]
  },
  {
   "cell_type": "code",
   "execution_count": null,
   "metadata": {},
   "outputs": [],
   "source": [
    "#betos - Berenson-Eggers Type of Service (BETOS) categories are used to analyze Medicare costs. Created to know how expenditures\n",
    "#are growing across categories\n",
    "#contains seven main categories\n",
    "# Evaluation and Management\n",
    "# Procedures\n",
    "# Imaging\n",
    "# Tests\n",
    "# Durable Medical Equipment\n",
    "# Other\n",
    "# Exceptions/Unclassified\n",
    "#A person can be given multiple betos services for eg- he/she might be tested for imaging and then suggest a medical\n",
    "#equipment\n",
    "\n",
    "#The analysis we can come up with is the combination of betos happening eg- heart attack - ambulance, screening, surgery etc\n",
    "#maybe apriori\n",
    "\n",
    "\n",
    "#Drug GPI - 100 attributes can be taken by a person - sheet name - GPI - indicates if the person is using the drug\n",
    "#count ct is the number of tablets/no. of times/the amount of dose of the drug is used by the person\n",
    "#per "
   ]
  },
  {
   "cell_type": "code",
   "execution_count": 19,
   "metadata": {},
   "outputs": [],
   "source": [
    "betos_columns = [col for col in yy.columns if 'betos' in col]"
   ]
  },
  {
   "cell_type": "code",
   "execution_count": 31,
   "metadata": {},
   "outputs": [
    {
     "data": {
      "text/plain": [
       "(69572, 34)"
      ]
     },
     "execution_count": 31,
     "metadata": {},
     "output_type": "execute_result"
    }
   ],
   "source": [
    "betos_df = yy[betos_columns]\n",
    "betos_df.shape"
   ]
  },
  {
   "cell_type": "code",
   "execution_count": 23,
   "metadata": {},
   "outputs": [],
   "source": [
    "betos_df.to_csv(\"betos_subset_columns.csv\",index=False)"
   ]
  },
  {
   "cell_type": "code",
   "execution_count": null,
   "metadata": {},
   "outputs": [],
   "source": [
    "# # bh - behavioral health describes connection between beahviors and health and wel being\n",
    "# bh_adtp_ind - behavioral addictive diorder treatment program\n",
    "# bh_aoth_ind - addictive \n",
    "# bh_bipr_ind - bipolar disorder\n",
    "# bh_cdal_ind - \n",
    "# bh_cdsb_ind \n",
    "# bh_cdto_ind\n",
    "# bh_dema_ind - demantia\n"
   ]
  },
  {
   "cell_type": "code",
   "execution_count": 27,
   "metadata": {},
   "outputs": [
    {
     "data": {
      "text/plain": [
       "<matplotlib.axes._subplots.AxesSubplot at 0x13b26dbb7c8>"
      ]
     },
     "execution_count": 27,
     "metadata": {},
     "output_type": "execute_result"
    },
    {
     "data": {
      "image/png": "[encoded data removed]",
      "text/plain": [
       "<Figure size 432x288 with 1 Axes>"
      ]
     },
     "metadata": {
      "needs_background": "light"
     },
     "output_type": "display_data"
    }
   ],
   "source": [
    "sns.distplot(yy[yy.bh_dema_ind ==1].est_age)"
   ]
  },
  {
   "cell_type": "markdown",
   "metadata": {},
   "source": [
    "##### cci_score - In medicine, comorbidity is the presence of one or more additional conditions often co-occurring with a primary condition. \n",
    "Based on the CCI score, the severity of comorbidity was categorized into three grades: mild, with CCI scores of 1–2; moderate, with CCI scores of 3–4; and severe, with CCI scores ≥5."
   ]
  },
  {
   "cell_type": "markdown",
   "metadata": {},
   "source": [
    "attributes are dcsi_score\t Final Diabetes Cormorbidity Severity Index score,\n",
    "fci_score\t Functional Comorbidity Index value calculated from 18 components\n",
    "\n"
   ]
  },
  {
   "cell_type": "code",
   "execution_count": 28,
   "metadata": {},
   "outputs": [
    {
     "data": {
      "text/plain": [
       "<matplotlib.axes._subplots.AxesSubplot at 0x13b63645fc8>"
      ]
     },
     "execution_count": 28,
     "metadata": {},
     "output_type": "execute_result"
    },
    {
     "data": {
      "image/png": "[encoded data removed]",
      "text/plain": [
       "<Figure size 432x288 with 1 Axes>"
      ]
     },
     "metadata": {
      "needs_background": "light"
     },
     "output_type": "display_data"
    }
   ],
   "source": [
    "sns.distplot(yy.cci_score)"
   ]
  },
  {
   "cell_type": "markdown",
   "metadata": {},
   "source": [
    "CCSP - Clinical Classification Software - It is a tool used to cluster patients diagnosis and procedure into\n",
    "categories\n",
    "\n",
    "The type of \n",
    "\n",
    "betos and ccsp relation eg - if a person has gone through oncology in betos ((P7B) does that person has a value in CCSP in 14, 20, 21, 34\n",
    "\n",
    "http://health.utah.gov/opha/IBIShelp/codes/CCS.htm in"
   ]
  },
  {
   "cell_type": "code",
   "execution_count": 30,
   "metadata": {},
   "outputs": [
    {
     "data": {
      "text/plain": [
       "0    68980\n",
       "1      592\n",
       "Name: ccsp_014_ind, dtype: int64"
      ]
     },
     "execution_count": 30,
     "metadata": {},
     "output_type": "execute_result"
    }
   ],
   "source": [
    "yy.ccsp_014_ind.value_counts()"
   ]
  },
  {
   "cell_type": "code",
   "execution_count": 62,
   "metadata": {},
   "outputs": [],
   "source": [
    "# CMS - Centers for Medicare & Medicaid Services \n",
    "\n",
    "# The Centers for Medicare & Medicaid Services is a federal agency that administers the nation's major healthcare programs including Medicare, Medicaid, and CHIP. ... \n",
    "#The agency aims to provide a healthcare system with better care, access to coverage, and improved health\n",
    "\n",
    "# Provides subsidary from government\n",
    "\n",
    "\n",
    "\n",
    "# rev_cms_ambul_ind\n",
    "# rev_cms_clinic_ind\n",
    "# rev_cms_er_ind\n",
    "# rev_cms_icu_ind\n",
    "# rev_cms_lab_ind\n",
    "# rev_cms_nicu_ind\n",
    "# rev_cms_phar_ind"
   ]
  },
  {
   "cell_type": "markdown",
   "metadata": {},
   "source": [
    "# THINK about CMSD it is realted to CMS"
   ]
  },
  {
   "cell_type": "code",
   "execution_count": null,
   "metadata": {},
   "outputs": [],
   "source": []
  },
  {
   "cell_type": "markdown",
   "metadata": {},
   "source": [
    "cnty_cd = county code across USA"
   ]
  },
  {
   "cell_type": "markdown",
   "metadata": {},
   "source": [
    "cons - Humana used third party KBM group to fetch the data about the customer\n",
    "\n",
    "Refer to KBM sheet when starting to model on these attributes"
   ]
  },
  {
   "cell_type": "code",
   "execution_count": null,
   "metadata": {},
   "outputs": [],
   "source": []
  },
  {
   "cell_type": "markdown",
   "metadata": {},
   "source": [
    "est_age\n"
   ]
  },
  {
   "cell_type": "code",
   "execution_count": 37,
   "metadata": {},
   "outputs": [
    {
     "data": {
      "text/plain": [
       "<matplotlib.axes._subplots.AxesSubplot at 0x13b243e1808>"
      ]
     },
     "execution_count": 37,
     "metadata": {},
     "output_type": "execute_result"
    },
    {
     "data": {
      "image/png": "[encoded data removed]",
      "text/plain": [
       "<Figure size 432x288 with 1 Axes>"
      ]
     },
     "metadata": {
      "needs_background": "light"
     },
     "output_type": "display_data"
    }
   ],
   "source": [
    "sns.distplot(yy.est_age)"
   ]
  },
  {
   "cell_type": "markdown",
   "metadata": {},
   "source": [
    "hcc - Hierarchical condition category (HCC) coding is a risk-adjustment model designed to estimate future health care costs for patients."
   ]
  },
  {
   "cell_type": "code",
   "execution_count": 33,
   "metadata": {},
   "outputs": [
    {
     "data": {
      "text/plain": [
       "<matplotlib.axes._subplots.AxesSubplot at 0x13b63650208>"
      ]
     },
     "execution_count": 33,
     "metadata": {},
     "output_type": "execute_result"
    },
    {
     "data": {
      "image/png": "[encoded data removed]",
      "text/plain": [
       "<Figure size 432x288 with 1 Axes>"
      ]
     },
     "metadata": {
      "needs_background": "light"
     },
     "output_type": "display_data"
    }
   ],
   "source": [
    "sns.distplot(yy.hcc_weighted_sum)"
   ]
  },
  {
   "cell_type": "code",
   "execution_count": null,
   "metadata": {},
   "outputs": [],
   "source": []
  },
  {
   "cell_type": "markdown",
   "metadata": {},
   "source": [
    "hedis - Healthcare Effectiveness Data and Information Set\n",
    "It is used to understand how a person is performing with national data \n",
    "HAVE TO READ A LOT ABOUT THIS\n",
    "\n",
    "https://www.webmd.com/health-insurance/terms/hedis"
   ]
  },
  {
   "cell_type": "code",
   "execution_count": 35,
   "metadata": {},
   "outputs": [
    {
     "data": {
      "text/plain": [
       "N    8142\n",
       "Y    6498\n",
       "Name: hedis_cmc_ldc_c_control, dtype: int64"
      ]
     },
     "execution_count": 35,
     "metadata": {},
     "output_type": "execute_result"
    }
   ],
   "source": [
    "yy.hedis_cmc_ldc_c_control.value_counts()"
   ]
  },
  {
   "cell_type": "code",
   "execution_count": null,
   "metadata": {},
   "outputs": [],
   "source": []
  },
  {
   "cell_type": "markdown",
   "metadata": {},
   "source": [
    "hlth_pgm_slvrsnkr_par_status\n",
    "hlth_pgm_slvrsnkr_pct_par\n",
    "hlth_pgm_slvrsnkr_refer_status\n",
    "\n",
    "Health plan benefits that provide fitness center memberships for older adults"
   ]
  },
  {
   "cell_type": "code",
   "execution_count": null,
   "metadata": {},
   "outputs": [],
   "source": []
  },
  {
   "cell_type": "code",
   "execution_count": 50,
   "metadata": {},
   "outputs": [],
   "source": [
    "# uu = pd.DataFrame(yy.isna().sum())\n",
    "# uu = uu.reset_index()\n",
    "# uu.columns  =['column', 'na']\n",
    "# uu[uu.na>1].to_csv('na_values.csv')"
   ]
  },
  {
   "cell_type": "markdown",
   "metadata": {},
   "source": [
    "lab_abn_result_ind - whether the results of the test was abnormal, if abnormal which of the following test is abnormal\n",
    "\n",
    "lab_bnp_abn_result_ind\n",
    "\n",
    "lab_bun_abn_result_ind\n",
    "\n",
    "lab_cholesterol_abn_result_ind\n",
    "\n",
    "lab_creatinine_abn_result_ind\n",
    "\n",
    "lab_egfr_abn_result_ind\n",
    "\n",
    "lab_hba1_c_abn_result_ind\n",
    "\n",
    "lab_hemoglobin_abn_result_ind\n",
    "\n"
   ]
  },
  {
   "cell_type": "code",
   "execution_count": null,
   "metadata": {},
   "outputs": [],
   "source": []
  },
  {
   "cell_type": "markdown",
   "metadata": {},
   "source": [
    "lang_spoken_cd -  Preferred Language for Member"
   ]
  },
  {
   "cell_type": "code",
   "execution_count": null,
   "metadata": {},
   "outputs": [],
   "source": []
  },
  {
   "cell_type": "code",
   "execution_count": 53,
   "metadata": {},
   "outputs": [],
   "source": [
    "# mabh_seg\tMedicare Segmentation - A sheet in excel\n",
    "# #the type of medical status of the person"
   ]
  },
  {
   "cell_type": "code",
   "execution_count": null,
   "metadata": {},
   "outputs": [],
   "source": []
  },
  {
   "cell_type": "code",
   "execution_count": 54,
   "metadata": {},
   "outputs": [],
   "source": [
    "##### The type of medical care utilized by patient number of times, no of days\n",
    "\n",
    "# med_ambulance_visit_ct_pmpm\n",
    "# med_er_visit_ct_pmpm\n",
    "# med_ip_acute_admit_ct_pmpm\n",
    "# med_ip_acute_admit_days_pmpm\n",
    "# med_ip_ltach_admit_ct_pmpm\n",
    "# med_ip_ltach_admit_days_pmpm\n",
    "# med_ip_maternity_admit_ct_pmpm\n",
    "# med_ip_maternity_admit_days_pmpm\n",
    "# med_ip_mhsa_admit_ct_pmpm\n",
    "# med_ip_mhsa_admit_days_pmpm\n",
    "# med_ip_rehab_admit_ct_pmpm\n",
    "# med_ip_rehab_admit_days_pmpm\n",
    "# med_ip_snf_admit_ct_pmpm\n",
    "# med_ip_snf_admit_days_pmpm\n",
    "# med_outpatient_visit_ct_pmpm\n",
    "# med_physician_office_visit_ct_pmpm\n",
    "# med_urgent_care_visit_ct_pmpm\n"
   ]
  },
  {
   "cell_type": "code",
   "execution_count": null,
   "metadata": {},
   "outputs": [],
   "source": []
  },
  {
   "cell_type": "code",
   "execution_count": 56,
   "metadata": {},
   "outputs": [],
   "source": [
    "# PDC-- perentage days covered\n",
    "# It is an indicator of percentage of number of days a patient has taken a drug fro particular medical issue\n",
    "# asthma etc\n",
    "\n",
    "# # pdc_ast\n",
    "# # pdc_cvd\n",
    "# # pdc_dep\n",
    "# # pdc_dia\n",
    "# # pdc_hf\n",
    "# # pdc_ht\n",
    "# # pdc_lip\n",
    "# # pdc_ost"
   ]
  },
  {
   "cell_type": "code",
   "execution_count": 59,
   "metadata": {},
   "outputs": [
    {
     "data": {
      "text/plain": [
       "0    59375\n",
       "1    10197\n",
       "Name: transportation_issues, dtype: int64"
      ]
     },
     "execution_count": 59,
     "metadata": {},
     "output_type": "execute_result"
    }
   ],
   "source": [
    "yy.transportation_issues.value_counts()"
   ]
  },
  {
   "cell_type": "code",
   "execution_count": null,
   "metadata": {},
   "outputs": [],
   "source": []
  },
  {
   "cell_type": "code",
   "execution_count": 60,
   "metadata": {},
   "outputs": [],
   "source": [
    "# # phy -  Binary indicator for each Physican E & M category\n",
    "# Physicians who understand the idiosyncratic\n",
    "# process of E/M documentation can command a higher rate of return on their cognitive labor than their less E/M-savvy counterparts. \n",
    "\n",
    "\n",
    "# The Key Components of E/M Documentation\n",
    "\n",
    "# The documentation for E/M services is based on three “key” components:\n",
    "\n",
    "# History\n",
    "# Physical Exam\n",
    "# Medical Decision-Making\n",
    "\n",
    "# phy_em_pe_ind\n",
    "# phy_em_pi_ind\n",
    "# phy_em_px_ind\n"
   ]
  },
  {
   "cell_type": "code",
   "execution_count": 58,
   "metadata": {},
   "outputs": [
    {
     "data": {
      "text/plain": [
       "0    48723\n",
       "1    20849\n",
       "Name: phy_em_pe_ind, dtype: int64"
      ]
     },
     "execution_count": 58,
     "metadata": {},
     "output_type": "execute_result"
    }
   ],
   "source": [
    "yy.phy_em_pe_ind.value_counts()"
   ]
  },
  {
   "cell_type": "code",
   "execution_count": null,
   "metadata": {},
   "outputs": [],
   "source": []
  },
  {
   "cell_type": "code",
   "execution_count": 61,
   "metadata": {},
   "outputs": [],
   "source": [
    "# #provider of different services  by someone\n",
    "\n",
    "\n",
    "# prov_fb_ind\n",
    "# prov_pcp_ind\n",
    "# prov_sp_ind\n",
    "# prov_spec_addiction_all_ind\n",
    "# prov_spec_ambulance_ind\n",
    "# prov_spec_bh_psychiatric_ind\n",
    "# prov_spec_chiropractic_ind\n",
    "# prov_spec_home_health_ind\n",
    "# prov_spec_med_supply_ind\n",
    "# prov_spec_nurse_phy_assist_ind\n",
    "# prov_spec_pain_mgmt_ind\n",
    "# prov_spec_phy_general_ind\n",
    "# prov_spec_phy_geriatric_ind\n"
   ]
  },
  {
   "cell_type": "code",
   "execution_count": null,
   "metadata": {},
   "outputs": [],
   "source": []
  },
  {
   "cell_type": "code",
   "execution_count": null,
   "metadata": {},
   "outputs": [],
   "source": []
  },
  {
   "cell_type": "markdown",
   "metadata": {},
   "source": [
    "Attribute division"
   ]
  },
  {
   "cell_type": "code",
   "execution_count": null,
   "metadata": {},
   "outputs": [],
   "source": [
    "betos_d1c_ind\n",
    "betos_d1c_pmpm_ct\n",
    "betos_d1d_ind\n",
    "betos_d1d_pmpm_ct\n",
    "betos_m1b_ind\n",
    "betos_m1b_pmpm_ct\n",
    "betos_m2c_ind\n",
    "betos_m2c_pmpm_ct\n",
    "betos_m5b_ind\n",
    "betos_m5b_pmpm_ct\n",
    "betos_m5c_ind\n",
    "betos_m5c_pmpm_ct\n",
    "betos_m5d_ind\n",
    "betos_m5d_pmpm_ct\n",
    "betos_o1a_ind\n",
    "betos_o1a_pmpm_ct\n",
    "betos_o1b_ind\n",
    "betos_o1b_pmpm_ct\n",
    "betos_o1e_ind\n",
    "betos_o1e_pmpm_ct\n",
    "betos_o1g_ind\n",
    "betos_o1g_pmpm_ct\n",
    "betos_t1a_ind\n",
    "betos_t1a_pmpm_ct\n",
    "betos_t1b_ind\n",
    "betos_t1b_pmpm_ct\n",
    "betos_t1e_ind\n",
    "betos_t1e_pmpm_ct\n",
    "betos_t1h_ind\n",
    "betos_t1h_pmpm_ct\n",
    "betos_t2a_ind\n",
    "betos_t2a_pmpm_ct\n",
    "betos_y2_ind\n",
    "betos_y2_pmpm_ct\n",
    "\n",
    "\n",
    "\n",
    "\n"
   ]
  }
 ],
 "metadata": {
  "kernelspec": {
   "display_name": "Python 3",
   "language": "python",
   "name": "python3"
  },
  "language_info": {
   "codemirror_mode": {
    "name": "ipython",
    "version": 3
   },
   "file_extension": ".py",
   "mimetype": "text/x-python",
   "name": "python",
   "nbconvert_exporter": "python",
   "pygments_lexer": "ipython3",
   "version": "3.7.6"
  }
 },
 "nbformat": 4,
 "nbformat_minor": 4
}
